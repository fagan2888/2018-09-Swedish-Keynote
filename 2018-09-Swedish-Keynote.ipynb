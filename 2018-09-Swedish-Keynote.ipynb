{
 "cells": [
  {
   "cell_type": "markdown",
   "metadata": {
    "slideshow": {
     "slide_type": "slide"
    }
   },
   "source": [
    "<font size=\"6\"><b><center>Housing and Heterogeneity: A Narrative and An Agenda</center></b></font>\n",
    "<br>\n",
    "<font size=\"5\"><b><center>Christopher Carroll</center></b></font>"
   ]
  },
  {
   "cell_type": "markdown",
   "metadata": {
    "slideshow": {
     "slide_type": "-"
    }
   },
   "source": []
  },
  {
   "cell_type": "markdown",
   "metadata": {},
   "source": [
    "# Part 1: Narrative\n",
    "\n",
    "Not necessarily the _best possible_ narrative\n",
    "But a plausible narrative that we need much better tools to evaluate, and especially in real time, than we yet have\n",
    "\n",
    "\n",
    "## Prehistory\n",
    "\n",
    "* Dot-Com Bubble\n",
    "  * Figure: Data on stock market investor expectations before and after bubble burst\n",
    "  <!--- Find a figure showing data, maybe from Shiller, with expectations of stock returns in some period before and after the crash of the dot-com bubble in 2001 --->\n",
    "  \n",
    "## History\n",
    "\n",
    "* 2001: China Joins the WTO\n",
    "    * Chinese external saving soars\n",
    "    * Nominal and real interest rates plunge\n",
    "    * Greenspan \"conundrum\" speech (2004?)\n",
    "        * Sidenote: Theory says the \"conundrum\" was why 30 year rates and overnight rates were so highly correlated _before_ 2004\n",
    "    * Bernanke \"global savings glut\" speech (2005)\n",
    "\n",
    "## Housing Market Boom/Bust Cycle\n",
    "* 2001-2003\n",
    "    * Nothing too surprising\n",
    "* 2004-2007\n",
    "    * Large increase in volume of credit\n",
    "    * Little change in proportion of households planning to buy houses\n",
    "        * Figures from Slok\n",
    "    * Substantial increase in \"speculative\" buyers\n",
    "        * _Marginal_ buyers are the ones whose expectations matter\n",
    "        * From Mian and Sufi (various)\n",
    "        * Rockefeller and Varian\n",
    "* 2008\n",
    "    * The Panic\n",
    "        * Retail Sales Collapse\n",
    "* 2009-2017\n",
    "    * Slow recovery from a crisis of confidence (Hall)    "
   ]
  },
  {
   "cell_type": "markdown",
   "metadata": {},
   "source": [
    "# Part 2: Agenda"
   ]
  },
  {
   "cell_type": "markdown",
   "metadata": {},
   "source": [
    "# Infrastructure To Prevent A Rerun\n",
    "\n",
    "## Improvments Needed in Both Models and Data\n",
    "\n",
    "### Two Kinds of Heterogeneity: Circumstances and Beliefs\n",
    "\n",
    "### Circumstances: What You CAN Do\n",
    "\n",
    "### Beliefs $\\Rightarrow$ What You WILL Do\n",
    "\n",
    "## Payoffs to this Agenda\n",
    "\n",
    "### Macroprudential: Crisis Prevention\n",
    "\n",
    "### Cyclical: Prediction, Feedback, and Control"
   ]
  },
  {
   "cell_type": "markdown",
   "metadata": {},
   "source": [
    "# Circumstances and Beliefs"
   ]
  },
  {
   "cell_type": "markdown",
   "metadata": {},
   "source": [
    "## Circumstances\n",
    "0. Household Balance Sheets\n",
    "0. Household Shocks\n",
    "   * Income\n",
    "   * Expenditure\n",
    "\n",
    "## Beliefs\n",
    "0. Expectations Surveys\n",
    "   * Everybody since Keynes: Expectations are key to Macro\n",
    "   * Until early naughts, taboo against using expectations data\n",
    "   * Some data collected nonetheless\n",
    "   * Still Pretty Woeful\n",
    "   * Getting better\n",
    "0. The Next Frontier: _Why_ Do You Believe It?\n",
    "0. Abolish Consumer Expenditure Surveys!\n",
    "\n",
    "Speculators: Pecuniary externality \n"
   ]
  }
 ],
 "metadata": {
  "kernelspec": {
   "display_name": "Python 2",
   "language": "python",
   "name": "python2"
  },
  "language_info": {
   "codemirror_mode": {
    "name": "ipython",
    "version": 2
   },
   "file_extension": ".py",
   "mimetype": "text/x-python",
   "name": "python",
   "nbconvert_exporter": "python",
   "pygments_lexer": "ipython2",
   "version": "2.7.14"
  }
 },
 "nbformat": 4,
 "nbformat_minor": 2
}
