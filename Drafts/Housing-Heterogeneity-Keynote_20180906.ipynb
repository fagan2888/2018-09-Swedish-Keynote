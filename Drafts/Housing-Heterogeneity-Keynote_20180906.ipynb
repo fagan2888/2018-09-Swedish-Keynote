{
 "cells": [
  {
   "cell_type": "markdown",
   "metadata": {
    "slideshow": {
     "slide_type": "slide"
    }
   },
   "source": [
    "<font size=\"9\"><b><center>Housing and Heterogeneity:</center></b></font><br><br>\n",
    "<font size=\"9\"><b><center>A Narrative and An Agenda</center></b></font>\n",
    "<br><br>\n",
    "<font size=\"6\"><b><center>Christopher Carroll</center></b></font>\n",
    "<br>\n",
    "<font size=\"6\"><b><center>Johns Hopkins University</center></b></font>\n",
    "<br><br><br>\n",
    "<font size=\"6\"><b><center>Rijksbank, Stockholm, September 2018</center></b></font>"
   ]
  },
  {
   "cell_type": "markdown",
   "metadata": {
    "slideshow": {
     "slide_type": "slide"
    }
   },
   "source": [
    "# Alternate History? ('History 2.0')\n",
    "<!-- Not as exciting as \"what if Hitler had won,\" but similar idea (Man in the High Castle, Handmaid's Tale -->\n",
    "<!-- In this alternate reality, ... -->\n",
    "\n",
    "<!-- \n",
    "<font size=\"10\"><b><center>Suppose from 2001 we'd had 2030 Tools</center></b></font>\n",
    "-->\n",
    "<!--\n",
    "## Suppose from 2001 we'd had 2030 Tools -->\n",
    "<!-- I will articulate in part 2 -->\n"
   ]
  },
  {
   "cell_type": "markdown",
   "metadata": {
    "slideshow": {
     "slide_type": "slide"
    }
   },
   "source": [
    "## From 1998 We Had **__2030 Tools__**:"
   ]
  },
  {
   "cell_type": "markdown",
   "metadata": {
    "slideshow": {
     "slide_type": "subslide"
    }
   },
   "source": [
    "### _Panel_ data at the household level:\n",
    "   * Integrated HH balance sheets\n",
    "      * Registry, or [Mint.com](https://mint.com)-type\n",
    "   * _With_ \n",
    "      * Expectations ('What will stock/housing prices do?') <!-- Michigan does this now -->\n",
    "      * Explanations ('_Why_'?) <!-- Almost nobody does this now; Michigan a little bit -->\n",
    "      * Uncertainty, Perceived Constraints ... whatever models say matters\n"
   ]
  },
  {
   "cell_type": "markdown",
   "metadata": {
    "slideshow": {
     "slide_type": "subslide"
    }
   },
   "source": [
    "### Models that can handle:\n",
    "\n",
    "<!--   * Not only balance sheets ...\n",
    "      * Already pretty close using conventional ideas\n",
    "         * Risk preference, discount rates, income shocks-->\n",
    "         \n",
    "Heterogeneity in expectations _and explanations_ \n",
    "   * Many competing theories right now\n",
    "      * Fading Memory \n",
    "         <cite data-cite=\"undefined\"></cite>\n",
    "      * Diagnostic Expectations\n",
    "          <cite data-cite=\"6273435/5DTVAPZ9\"></cite>\n",
    "      * k-Level Thinking <cite data-cite=\"6273435/UWMQ3ND7\"></cite>\n",
    "         <!-- SAK: citations; Shleifer: 'Diagnostic Expectations'\n",
    "         SAK-DONE- citation{NagelXu2018}\n",
    "         SAK-DONE- citation{BordaloEtAl2017a and BordaloEtAl2017b}<cite data-cite=\"6273435/ZNBZENA9\"></cite>\n",
    "         SAK-DONE- citation{FarhiWerning2017}-->\n",
    "         \n",
    "<!--       \n",
    "  * Result:\n",
    "      * Dot-Com Bubble a Rockefeller moment: (SAK find citation)\n",
    "          * know it's a bubble when shoeshine boy is giving stock tips\n",
    "SAK-DONE- citation{chudley2017}\n",
    "It was actually Joe Kennedy who said this, not Rockefeller.\n",
    "-->\n",
    "\n",
    "<!-- SAK: Add to bibfile cites for Charles MacKay (1841) \"madness of crowds\" - Kindleberger (1978?) book - Minsky\n",
    "SAK-DONE- citation{mackay1841}\n",
    "SAK-DONE- citation{kindleberger1978}\n",
    "SAK-DONE- citation{minsky1986}-->"
   ]
  },
  {
   "cell_type": "markdown",
   "metadata": {
    "slideshow": {
     "slide_type": "subslide"
    }
   },
   "source": [
    "### Winner Will Have Two Features\n",
    "   1. Expectations are extrapolative\n",
    "       * _Perception_ of $\\Delta p_{t} \\Rightarrow \\mathbb{E}_{t}[\\Delta p_{t+1}]$ \n",
    "       \n",
    "<!--      \n",
    "   * Heterogeneity in the interval used for extrapolation\n",
    "       * Shiller looks back 150 years\n",
    "       * A lot of people now don't seem to remember events from 10 years ago\n",
    "   * Combination of \"Diagnostic Expectations\" and \"Fading Memory\" \n",
    "-->\n",
    "<!--       \n",
    "  * Result:\n",
    "      * know it's a bubble when shoeshine boy is giving stock tips\n",
    "SAK-DONE- citation{chudley2017}\n",
    "It was actually Joe Kennedy who said this, not Rockefeller.\n",
    "-->\n",
    "\n",
    "<!-- SAK: Add to bibfile cites for Charles MacKay (1841) \"madness of crowds\" - Kindleberger (1978?) book - Minsky\n",
    "SAK-DONE- citation{mackay1841}\n",
    "SAK-DONE- citation{kindleberger1978}\n",
    "SAK-DONE- citation{minsky1986}-->"
   ]
  },
  {
   "attachments": {},
   "cell_type": "markdown",
   "metadata": {
    "slideshow": {
     "slide_type": "fragment"
    }
   },
   "source": [
    "\n",
    "<center><img src=\"Figures/Michigan_HP_full.png\" width=\"800\">\n"
   ]
  },
  {
   "cell_type": "markdown",
   "metadata": {
    "slideshow": {
     "slide_type": "notes"
    }
   },
   "source": [
    "\n",
    "\n",
    "### Older Similar Theories:\n",
    "* <cite data-cite=\"6273435/AV7DSQTR\"></cite>\n",
    "* <cite data-cite=\"6273435/BLFT9BEG\"></cite>\n",
    "* <cite data-cite=\"6273435/EB4C5G4S\"></cite>\n",
    "* <cite data-cite=\"6273435/98I3UQNW\"></cite>\n"
   ]
  },
  {
   "cell_type": "markdown",
   "metadata": {
    "slideshow": {
     "slide_type": "slide"
    }
   },
   "source": [
    "### Winner Will  Have Two Features\n",
    "   2. Heterogeneity in the interval used for extrapolation\n",
    "       * Shiller looks back 150 years\n",
    "       * A lot of people right now don't seem to remember events from 10 years ago\n",
    "\n",
    "Combination of \"Diagnostic Expectations\" and heterogeneous \"Fading Memory\"?\n",
    "<!--       \n",
    "  * Result:\n",
    "      * know it's a bubble when shoeshine boy is giving stock tips\n",
    "SAK-DONE- citation{chudley2017}\n",
    "It was actually Joe Kennedy who said this, not Rockefeller.\n",
    "-->\n",
    "\n",
    "<!-- SAK: Add to bibfile cites for Charles MacKay (1841) \"madness of crowds\" - Kindleberger (1978?) book - Minsky\n",
    "SAK-DONE- citation{mackay1841}\n",
    "SAK-DONE- citation{kindleberger1978}\n",
    "SAK-DONE- citation{minsky1986}-->"
   ]
  },
  {
   "cell_type": "markdown",
   "metadata": {
    "slideshow": {
     "slide_type": "subslide"
    }
   },
   "source": [
    "## ... Toy 2030 Theory: Anatomy Of Bubbles\n",
    "\n",
    "1. Some genuine good news arrives\n",
    "   * Fundamental value of asset is higher\n",
    "1. Spread of extrapolative $\\mathbb{E}[\\Delta p]$ is like a disease   \n",
    "   * Susceptible to infection:\n",
    "       * People with access to funds ...\n",
    "       * ... and short 'memory'\n",
    "       * ... who are optimists\n",
    "<!--       * ... and high risk tolerance -->\n",
    "    * \"Infection\": _marginal_ people buy the asset (or more of it)\n",
    "1. Collapse of bubble is like \"recovery\" from infection\n",
    "   * Recovered: Behavior of \"marginal\" people back to normal \n",
    "\n",
    "<!-- US example is familiar but themes are universal -->\n",
    "<!-- \n",
    "Old Story:\n",
    "1. (Mackay (1841)-Kindleberger (1978)-Minsky (various))\n",
    "-->\n",
    "<!--\n",
    "*   Purpose?\n",
    "    * Illustrate generic interplay between theory, data\n",
    "    * NOT to claim this is the _right_ theory\n",
    "-->\n",
    "\n",
    "<!--\n",
    "Guess: Nagel model with heterogeneous memory may generate something like this\n",
    "-->\n"
   ]
  },
  {
   "cell_type": "markdown",
   "metadata": {
    "slideshow": {
     "slide_type": "slide"
    }
   },
   "source": [
    "## Prehistory\n",
    "\n",
    "<!-- Can't avoid talking about this because it set the stage -->\n",
    "\n",
    "Mid-90's Productivity Acceleration\n",
    "  * Greenspan's \"New Economy\" (~1996)\n",
    "  * Becomes Consensus: <!-- Achieved faster than for 1970s slowdown -->\n",
    "     * [Economic Report of the President (2001)](http://www.presidency.ucsb.edu/economic_reports/2001.pdf)\n",
    "     \n",
    "<!--        * \"The New Trend In Productivity\" (p. 26) -->\n",
    "<!-- CBO: Budget surpluses as far as the eye can see -->\n",
    "\n",
    "<!--      * Stock market peaked March 2010 -- just before ERP conceded -->\n",
    "\n",
    "$\\Rightarrow$ Boom in asset prices\n",
    "  * Stock Market (1994-2000)\n",
    "  * __Also ~20 percent rise in house prices (~1997-2002)__\n",
    "  \n",
    "<!--  ![UpwardSlope2.jpg](attachment:UpwardSlope2.jpg) -->\n",
    "\n",
    "<!-- ![_Also ~30 percent rise in house prices_](Figures/UpwardSlope2.jpg) -->\n",
    "\n",
    "<!--\n",
    "## Prehistory 2.0\n",
    "*  Data allowed us to identify people with _ex ante_\n",
    "      * Low Memory (young; less education)\n",
    "      * Low risk aversion\n",
    "      * Surprisingly fast income growth\n",
    "*   _We see_ these people _differentially_\n",
    "      * Had biggest change in expectations\n",
    "      * Had biggest change in actions\n",
    "*   _They tell us_ they\n",
    "      * Invested because $\\mathbb{E}[\\Delta p] \\uparrow$\n",
    "      * (cf Hall 2000)\n",
    "-->\n"
   ]
  },
  {
   "cell_type": "markdown",
   "metadata": {
    "slideshow": {
     "slide_type": "subslide"
    }
   },
   "source": [
    "<!-- ## Prehistory -->\n",
    "\n",
    "<!-- Can't avoid talking about this because it set the stage -->\n",
    "\n",
    "<!-- \n",
    "Mid-90's Productivity Acceleration\n",
    "  * Greenspan's \"New Economy\" Heresy (~1996)\n",
    "  * ERP marks \"Consensus\": \n",
    "     * [Economic Report of the President (2001)](http://www.presidency.ucsb.edu/economic_reports/2001.pdf)\n",
    "-->\n",
    "\n",
    "<!--        * \"The New Trend In Productivity\" (p. 26) -->\n",
    "<!-- CBO: Budget surpluses as far as the eye can see -->\n",
    "\n",
    "<!--      * Stock market peaked March 2010 -- just before ERP conceded -->\n",
    "<!-- Consequence: Boom in asset prices\n",
    "  * Stock Market (1994-2000)\n",
    "  * [_Also ~30 percent rise in house prices_](https://github.com/llorracc/Figures/blob/2018-09-Swedish-Keynote/UpwardSlope2.jpg)\n",
    "-->\n",
    "<!-- \n",
    "<div style=\"width: 200px;\">![UpwardSlope2.jpg](attachment:UpwardSlope2.jpg)</div>\n",
    "-->\n",
    "\n",
    "<font size=\"6\"><b><center>Housing Prices Started Rising: ~1997</center></b></font>\n",
    "\n",
    "<!--\n",
    "![UpwardSlope2.jpg](attachment:UpwardSlope2.jpg)\n",
    "-->\n",
    "\n",
    "<center><img src=\"Figures/UpwardSlope2.jpg\" width=\"1000\"></center>\n",
    "\n",
    "<!-- ![_Also ~30 percent rise in house prices_](Figures/UpwardSlope2.jpg) -->\n",
    "\n",
    "<!--\n",
    "## Prehistory 2.0\n",
    "*  Data allowed us to identify people with _ex ante_\n",
    "      * Low Memory (young; ®®‰rless education)\n",
    "      * Low risk aversion\n",
    "      * Surprisingly fast income growth\n",
    "*   _We see_ these people _differentially_\n",
    "      * Had biggest change in expectations\n",
    "      * Had biggest change in actions\n",
    "*   _They tell us_ they\n",
    "      * Invested because $\\mathbb{E}[\\Delta p] \\uparrow$\n",
    "      * (cf Hall 2000)\n",
    "-->\n",
    "\n",
    "<!--\n",
    "**SAK-citations-from-comments-in-order:**\n",
    "* <cite data-cite=\"6273435/MRW6WNVP\"></cite>\n",
    "* <cite data-cite=\"6273435/HAEFCS8B\"></cite>\n",
    ">\n",
    "<!-- SAK: add Blinder:After the Music Stopped to references \n",
    "     SAK-DONE- citation{blinder2013}-->\n",
    "\n",
    "<!--\n",
    "## Prehistoric Theories\n",
    "* Rationally Exuberant Expectations\n",
    "   * Hall (2000) AEA Ely Lecture (I think -- SAK find it)\n",
    "   SAK-DONE- citation{hallAEA2001}\n",
    "      * Companies rapidly creating \"intangible capital\"\n",
    "* Irrational Exuberance (Shiller)\n",
    "   * No Usable Theory of the _Right_ model\n",
    "-->   \n",
    "\n",
    "<!---        \n",
    "    * Accounting frauds:\n",
    "      * \"Off balance sheet\" entities (Enron, others)\n",
    "      * \"Crisis of Confidence\" in financial markets -->\n",
    "<!--- Find a figure showing data, maybe from Shiller, with expectations of stock returns in some period before and after the crash of the dot-com bubble in 2001 --->"
   ]
  },
  {
   "cell_type": "markdown",
   "metadata": {
    "slideshow": {
     "slide_type": "notes"
    }
   },
   "source": [
    "\n",
    "**Citations:**\n",
    "* <cite data-cite=\"6273435/MRW6WNVP\"></cite>\n",
    "* <cite data-cite=\"6273435/HAEFCS8B\"></cite>\n",
    "\n",
    "<!-- SAK: add Blinder:After the Music Stopped to references \n",
    "     SAK-DONE- citation{blinder2013}-->\n",
    "\n",
    "<!--\n",
    "## Prehistoric Theories\n",
    "* Rationally Exuberant Expectations\n",
    "   * Hall (2000) AEA Ely Lecture (I think -- SAK find it)\n",
    "   SAK-DONE- citation{hallAEA2001}\n",
    "      * Companies rapidly creating \"intangible capital\"\n",
    "* Irrational Exuberance (Shiller)\n",
    "   * No Usable Theory of the _Right_ model\n",
    "-->   \n",
    "\n",
    "<!---        \n",
    "    * Accounting frauds:\n",
    "      * \"Off balance sheet\" entities (Enron, others)\n",
    "      * \"Crisis of Confidence\" in financial markets -->\n",
    "<!--- Find a figure showing data, maybe from Shiller, with expectations of stock returns in some period before and after the crash of the dot-com bubble in 2001 --->"
   ]
  },
  {
   "cell_type": "markdown",
   "metadata": {
    "slideshow": {
     "slide_type": "slide"
    }
   },
   "source": [
    "## The Boom: History 1.0 - Facts\n",
    "\n",
    "2000-01: Contra <cite data-cite=\"6273435/A2G7SCE7\"></cite>, housing was _not_ the cycle\n",
    "   * Barely a blip in house prices or construction <cite data-cite=\"6273435/2LKSCVY3\"></cite>\n",
    "\n",
    "<!-- Ed Leamer notwithstanding (SAK: Leamer Jackson Hole paper)\n",
    "   SAK-DONE- citation{leamer2007}-->\n",
    "\n",
    "2001-05: Chinese external saving unleashed <!--(WTO)-->\n",
    "* \"global savings glut ('GSG')\" <cite data-cite=\"6273435/VDK9EZWA\"></cite> <!-- SAK: add to bibfile\n",
    "SAK-DONE- citation{bernanke2005}-->\n",
    "* $\\Rightarrow$ Interest rates lowest since Great Depression\n",
    "\n",
    "2002-06:  Continuing $\\uparrow$ in availability of credit across the board\n",
    "  * Subprime <cite data-cite=\"6273435/TJ86B67S\"></cite> _and_ prime <cite data-cite=\"6273435/3SMCKLDX\"></cite>\n",
    "\n",
    "  * For primary residences _and_ nonprimary (Garcia 2018)\n",
    " <cite data-cite=\"6273435/6HQGCZHA\"></cite>     <!--      * Real and nominal -->\n",
    "      <!--      * Greenspan \"conundrum\" speech (2004?) -->\n",
    "      <!---        * Sidenote: Theory says the \"conundrum\" was why 30 year rates and overnight rates were so highly correlated _before_ 2004 --->\n"
   ]
  },
  {
   "cell_type": "markdown",
   "metadata": {
    "slideshow": {
     "slide_type": "notes"
    }
   },
   "source": [
    "\n",
    "**Citations**\n",
    "* <cite data-cite=\"6273435/TJ86B67S\"></cite>\n",
    "* <cite data-cite=\"6273435/WTWTWFWP\"></cite>\n",
    "<!-- MS say it's also because of the increase in inequality SAK: (get ref in bibfile;\n",
    "SAK-DONE- citation{MianSufi2018}\n",
    "SAK-DONE- citation{kumhofEtAl2015}\n",
    "Note: MianSufi2018 mention both the savings glut and rise in inequality as possible sources of expansion in credit supply. kumhofEtAl2015 study the role of inequality in detail.\n",
    "-->\n"
   ]
  },
  {
   "cell_type": "markdown",
   "metadata": {
    "slideshow": {
     "slide_type": "slide"
    }
   },
   "source": [
    "## The Boom: History 1.0 - Contemporaneous Views <!-- Contemporaneous -->\n",
    "\n",
    "   * First prominent claims housing bubble is inflating?\n",
    "      * _The Economist_ <cite data-cite=\"6273435/DCC92Q2Z\"></cite>\n",
    "      * <cite data-cite=\"6273435/HZE378I7\"></cite> \n",
    "   * \"That Hissing Sound\" <cite data-cite=\"6273435/5EW3ZYSE\"></cite>\n",
    "   * 'Financial innovation'\n",
    "      * 'Something funny going on around here' <cite data-cite=\"6273435/LGD94T7L\"></cite>\n",
    "   * Popular culture\n",
    "      * \"Flip That House\" first episode: July 2005\n",
    "\n",
    "<!-- SAK: Find citation for Gramlich's warnings SAK-DONE- citation{gramlich2004}-->\n",
    "\n",
    "<!-- SAK: Shiller discussed a paper of mine at the Fed where he said this; see if you can find him saying it publicly in 2004; put in bibfile\n",
    "   SAK-DONE- citation{CaseShiller2003}-->\n",
    "<!-- 2005: -->\n",
    "       \n",
    "<!-- SAK find link to Krugman column, put in bibfile SAK-DONE- citation{krugmanNYTimes2002}\n",
    "Note: It should be noted that this popular article, which commentators have used to claim that Krugman had predicted a bubble, is mostly misinterpreted. In this article, Krugman was actually talking about the limits to the Fed's powers, saying that the only way Greenspan could achieve a recovery would be if he were abe to create a new bubble. It was in Krugman's 2005 piece (citation{krugmanNYTimes2005}) that he warned against the housing bubble.-->\n",
    "\n",
    "<!-- SAK: reference to Mian and Sufi (2018) vs Adelino etc on this subject?\n",
    "      SAK-DONE- citation{AdelinoEtAl2016}\n",
    "              - citation{MianSufi2018}-->\n",
    "\n",
    "<!-- SAK: add Blinder:After the Music Stopped to references \n",
    "           SAK-DONE-citation{blinder2013}-->\n"
   ]
  },
  {
   "cell_type": "markdown",
   "metadata": {
    "slideshow": {
     "slide_type": "slide"
    }
   },
   "source": [
    "## The Boom: History 1.0 - Contemporaneous Views\n",
    "\n",
    "\"It is _Not_ A Bubble\"\n",
    "   * 2005 JEP Paper <cite data-cite=\"6273435/Q7UH3SHN\"></cite><!-- SAK: put in bibfile and papers SAK-DONE- citation{himmelbergEtAl2005}-->\n",
    "   \n",
    "Instead, It's Improved Fundamentals\n",
    "   * \"New Economy\", Low $R$, 'financial innovation'\n",
    "<!-- Fed was worried about deflation (!) -->\n",
    "<!-- Now everybody _understands_ the toy theory above -->"
   ]
  },
  {
   "cell_type": "markdown",
   "metadata": {
    "slideshow": {
     "slide_type": "notes"
    }
   },
   "source": [
    "**Citations**\n",
    "<cite data-cite=\"6273435/JMNWJTKW\"></cite>\n",
    "<!-- SAK citation to own paper on household response to uncertainty paper reference\n",
    "SAK-DONE- citation{AlexopoulosCohen2015} -- This paper might be more relevant for you.\n",
    "          citation{KnotekKhan2011}\n",
    "          Note: AlexopoulosCohen2015 also use a NYTimes uncertainty index. It might be more relevant for you, as they find a higher response of household spending to uncertainty shocks than KnotekKhan2011. We found that household spending reductions are modest and may only appear after a considerable time has passed.-->\n"
   ]
  },
  {
   "cell_type": "markdown",
   "metadata": {
    "slideshow": {
     "slide_type": "slide"
    }
   },
   "source": [
    "## The Boom: History 2.0 (2002-2006)\n",
    "* **2030 Theory**: Improved fundamentals are _prereq_ for a bubble\n",
    "   * _Not_ an argument against a bubble\n",
    "   * Bubbles happen when \n",
    "      1. Lots of buying by house-price extrapolative optimists $\\mathbb{E}_{i,t}[\\Delta p^{h}_{t+\\bullet}]$\n",
    "         * Not, e.g., because of $R$\n",
    "      1. Burst when these _marginal_ people depart\n",
    "* 2002-2003: Lots of people in \"susceptible\" (=marginal) pool\n",
    "<!--   * $\\Delta_{\\bullet}~ p^{h}_{t} \\rightarrow \\mathbb{E}_{t}[\\Delta p^{h}_{t+\\bullet}]$ is high: \"momentum\" \n",
    "   <!-- SAK: Use data from [Michigan surveys](https://data.sca.isr.umich.edu/charts.php) to show $\\Delta_{1} p^{h}_{t} vs ... \\mathbb{E}_{t}[\\Delta p^{h}_{t+1}]$ for period over which both are available)\n",
    "   SAK-DONE- figure added to Figures/Michigan_HPI.pdf-->\n",
    "   1. Beneficiaries of 'financial innovation' (Mian and Sufi)\n",
    "   1. \"New Economy\" beliefs + Bush tax cuts ...\n",
    "      * Some people with money to invest ...\n",
    "      * ... are pessimistic about stock market (after dot-com bubble) \n",
    "      * ... but optimistic about house prices (extrapolating)"
   ]
  },
  {
   "cell_type": "markdown",
   "metadata": {
    "slideshow": {
     "slide_type": "slide"
    }
   },
   "source": [
    "## History 2.0 (2002-2006): Infection Spreading\n",
    "\n",
    "* **2030 Data** let us see expectations and options changing _heterogenously_\n",
    "   * _Among those_ with $\\uparrow$ in $\\mathbb{E}[\\Delta p^{h}]$\n",
    "     * _We ask them why_ and they _say_, basically, \"momentum\"\n",
    "     * _Marginal_ demand driven by short-memory optimists   \n",
    "        * Primary residence buyers: buy _bigger_ houses\n",
    "        * More buyers _say they are_ buying \"as an investment\"\n",
    "   * \"You know it's a bubble\" when\n",
    "      * 1920s: Shoeshine boys give stock tips (Joe Kennedy) <cite data-cite=\"6273435/AV7DSQTR\"></cite>\n",
    "      * 2000s: Hairdressers, bartenders become flippers\n",
    "      * **2030 Data** _are_ the plural of anecdotes.  \n",
    "         \n",
    "<!-- SAK: Find quote about how you know its a bubble when shoeshine boy gives you stock tips; also citation for flipping\n",
    "         SAK-DONE- citation{chudley2017} Note: As mentioned earlier, it was not Rockefeller, it was Joe Kennedy who said this. -->\n",
    "<!--       * TV shows do not lie -->\n",
    "\n",
    "<!-- Models vs data\n",
    "   * Krugman _et al_ may have a point\n",
    "   -->"
   ]
  },
  {
   "cell_type": "markdown",
   "metadata": {
    "slideshow": {
     "slide_type": "slide"
    }
   },
   "source": [
    "## Boom to Bust (2007-2008): History 1.0\n",
    "\n",
    "Competing Interpretations of Great Recession\n",
    "   1. Huge negative shock to credit supply\n",
    "      * Eggertson and Krugman, Guerrieri and Lorenzoni, Aruoba et al\n",
    "   2. Huge increase in uncertainty\n",
    "      * Bloom, many others\n",
    "\n",
    "<!-- \n",
    "Michigan Survey is crude substitute for **2030 Data**, but:\n",
    "  * Huge increases in pessimism between 2008q2 and 2008q4\n",
    "     * unemployment\n",
    "     * house prices\n",
    "     * income\n",
    "     * everything\n",
    "-->\n",
    "<!-- SAK: Find Cochrane reference saying this -->\n",
    "\n",
    "<!--\n",
    "Competing stories:\n",
    "  * $\\downarrow$ in believed level of permanent income\n",
    "  * $\\uparrow$ labor income uncertainty\n",
    "-->\n",
    "\n",
    " <!-- cssUSSaving -->\n",
    "\n",
    "<!-- ![](https://github.com/llorracc/Figures/blob/master/Retail-Sales-Collapse.jpg)\n",
    "![](Figures/Retail-Sales-Collapse.png)\n",
    "![](Retail-Sales-Collapse.png)\n",
    "![](https://github.com/llorracc/Figures/blob/master/Retail-Sales-Collapse.jpg)\n",
    "-->"
   ]
  },
  {
   "cell_type": "markdown",
   "metadata": {
    "slideshow": {
     "slide_type": "slide"
    }
   },
   "source": [
    "## Boom to Bust: History 2.0 (2007-08)\n",
    "* In 2006-07, _expansion_ of credit stops <!-- Fed SLOOS shows this -->\n",
    "   * _Low memory types_ extrapolate quickly:\n",
    "       * Low memory optimists become pessimists\n",
    "       * $\\Delta p^{h}_{2007} < \\mathbb{E}_{2006}[\\Delta p^{h}_{2007}]$\n",
    "         * $\\Rightarrow \\mathbb{E}_{2007}[\\Delta p^{h}_{2008}] < \\mathbb{E}_{2006}[\\Delta p^{h}_{2008}]$\n",
    "   * Hissing sound gets loud\n",
    "   * Explains slowdown 2006-2008q2\n",
    "      * Does _not_ explain collapse between 2008q2-2008q4"
   ]
  },
  {
   "cell_type": "markdown",
   "metadata": {
    "slideshow": {
     "slide_type": "subslide"
    }
   },
   "source": [
    "<!-- ![Retail-Sales-Collapse.jpg](attachment:Retail-Sales-Collapse.jpg) --> \n",
    "<center><img src=\"Figures/Retail-Sales-Collapse.jpg\" width=\"1000\"></center>\n"
   ]
  },
  {
   "cell_type": "markdown",
   "metadata": {
    "slideshow": {
     "slide_type": "slide"
    }
   },
   "source": [
    "## Boom to Bust: History 2.0 (2008q2-2008q4)\n",
    "\n",
    "**2030 Data**\n",
    "   * Consumption collapsed even:\n",
    "      * For people who are never going to want to borrow\n",
    "      * More for people whose expectations deteriorated more\n",
    "      * In regions where there had not been a boom\n",
    "      \n",
    "**2030 Theory**\n",
    "   * Degree of uncertainty is a \"fundamental\" \n",
    "      * We see huge increase in uncertainty\n",
    "      * Those whose uncertainty increased more, cut C more"
   ]
  },
  {
   "cell_type": "markdown",
   "metadata": {
    "slideshow": {
     "slide_type": "slide"
    }
   },
   "source": [
    "## The Boom: History 2.0 (2002-2006, Macropru edition)\n",
    "* Macropru regulators know how to do _micro_ 'stress tests'\n",
    "<!-- * Prudence: $\\mathbb{E}[u^{\\prime}]$ \n",
    "    * At date $t$, see dist'n of balance sheets _and_ $\\mathbb{E}_{t}[\\Delta p^{h}_{t+\\bullet}]$\n",
    "       * Can see unusual participation by _marginal_ types -->\n",
    "    * **2030 Theory**: We know what circs cause defaults\n",
    "    * Can simulate alternate _future_ histories:\n",
    "       * Productivity growth, interest rates, uncertainty\n",
    "          * <cite data-cite=\"6273435/V8M7KIK5\"></cite>, <cite data-cite=\"6273435/HRF5MEAR\"></cite>\n",
    "* By 2006, micro stress tests reveal major fragility to minor shocks\n",
    "\n",
    "<!-- \n",
    "   * **2030 Theory** can incorporate downward feedback loop in simulations\n",
    "-->\n",
    "\n",
    "<!-- citation{FernaldEtAl2016}, citation{HallNBER2014}-->\n",
    "<!-- Michigan survey but don't see whose uncertainty goes up -- marginal homebuyers ? -->\n"
   ]
  },
  {
   "cell_type": "markdown",
   "metadata": {
    "slideshow": {
     "slide_type": "subslide"
    }
   },
   "source": [
    "## The Boom: History 2.0 (2002-2006, Macropru edition)\n",
    "\n",
    "Which Macropru policies do what?\n",
    "\n",
    "* **2030 Theory+Data**: People default when\n",
    "   * Underwater + Negative income shock ('double trigger')\n",
    "   \n",
    "<!--   * pessimistic $\\mathbb{E}_{t}[\\Delta p^{h}_{t+1}]$ -->\n",
    "\n",
    "<!-- * **2030 Theory** says $\\Delta p^{h}_{t-1} \\Rightarrow \\mathbb{E}_{t}[\\Delta p_{t+1}^{h}]$ \n",
    "   * If at $t$, _inflow_ declines ($\\downarrow$ _marginal_ demand)\n",
    "      * then $\\Delta p^{h}_{t+1} < \\mathbb{E}_{t}[\\Delta p^{h}_{t+1}]$\n",
    "-->\n",
    "* **2030 Theory**\n",
    "    * Khan (2018): Theory that matches 'double trigger' facts implies\n",
    "       * Debt-To-Value rules insulate against income shocks\n",
    "       * Payment-To-Income rules insulate against $p^{h}$ shocks\n",
    "    * Calibrated stress tests tell you which to adjust"
   ]
  },
  {
   "cell_type": "markdown",
   "metadata": {
    "slideshow": {
     "slide_type": "subslide"
    }
   },
   "source": [
    "## The Boom: History 2.0 (2002-2006, Macropru edition)\n",
    "\n",
    "New kinds of macropru rules\n",
    "  * Countercylical rules that target \"speculative\" demand\n",
    "    * Because of the pecuniary externality\n",
    "  * e.g.?\n",
    "    * Risk-weighted capital rules where \"riskiness\" rises with\n",
    "       * Proportion of aggregate lending for non-primary-residence\n",
    "       * Proportion of buyers who _say_ they are buying because $\\mathbb{E}[p^{h}]$ high"
   ]
  },
  {
   "cell_type": "markdown",
   "metadata": {
    "slideshow": {
     "slide_type": "subslide"
    }
   },
   "source": [
    "## The Boom: History 2.0 (2002-2006, Macropru edition)\n",
    "Consequence? History 2.0 differs from 1.0\n",
    "* Size of bubble is smaller\n",
    "* For a given bubble size, consequences are milder"
   ]
  },
  {
   "cell_type": "markdown",
   "metadata": {
    "slideshow": {
     "slide_type": "slide"
    }
   },
   "source": [
    "# Part 2: Agenda"
   ]
  },
  {
   "cell_type": "markdown",
   "metadata": {
    "slideshow": {
     "slide_type": "slide"
    }
   },
   "source": [
    "## Modeling (near term priorities)\n",
    "\n",
    "### Incorporate real estate investing in HH problem\n",
    "   * Integrated with \"primary housing\" choices\n",
    "   * Governed by same expectations, explanations\n",
    "   * In _model_ eqbm, consumers face choice between:\n",
    "      * Stock market\n",
    "      * Real estate"
   ]
  },
  {
   "cell_type": "markdown",
   "metadata": {
    "slideshow": {
     "slide_type": "slide"
    }
   },
   "source": [
    "### New focus of models (and analysis thereof):\n",
    "   * _Tell us what to do on surveys_\n",
    "   * e.g., Kaplan, Mitman, Violante would imply:\n",
    "      * Ask expectations, explanations\n",
    "      * Are explanations about fundamentals or extrapolative?\n",
    "         * 'I think $R$ is permanently lower'? or\n",
    "         * 'Prices have been going up' (see earlier figure)\n",
    "    * _Whose_ expectations to focus on\n",
    "      * Forever-renters?  Not important\n",
    "          * Target surveys to people making marginal decisions"
   ]
  },
  {
   "cell_type": "markdown",
   "metadata": {
    "slideshow": {
     "slide_type": "slide"
    }
   },
   "source": [
    "### Dynamics (not just steady states) <!-- very hard; got to try -->\n",
    "   * _Especially_ for the marginal players\n",
    "   * Sluggishness in $p^{h}$ _and behavior_ comes from:\n",
    "      * Search frictions <cite data-cite=\"6273435/N2QBSRRP\"></cite>\n",
    "      * Information frictions\n",
    "         * Everybody knows everything instantly: won't work\n",
    "   * Very hard"
   ]
  },
  {
   "cell_type": "markdown",
   "metadata": {
    "slideshow": {
     "slide_type": "slide"
    }
   },
   "source": [
    "## Modeling Expectations and Explanations (Desiderata)\n",
    "\n",
    "   * Ideally, same deep model for _Everybody_\n",
    "      * Difference in deep parameter like \"memory\"\n",
    "      * Most diffs in behavior explained by circs\n",
    "   * Behavioral foundations strongly disciplined by evidence\n",
    "      * \"Other people are like me\"\n",
    "      <!-- SAK: Find a reference of evidence of this -->\n",
    "      * \"Representativeness Heuristic\" <cite data-cite=\"6273435/6ASZQUFK\"></cite> <!-- SAK: Kahneman book \"Thinking fast and slow\" into bibfile SAK-DONE- citation{kahneman2011}-->\n",
    "      * Fading Memory <cite data-cite=\"6273435/5LQEJQJH\"></cite>   \n",
    "      <!-- SAK: Nagel and Malmendier refs into bibfile SAK-DONE- citation{NagelXu2018}\n",
    "      citation{MalmendierNagel2011}-->\n",
    "      * ...\n",
    "\n",
    "<!-- \n",
    "Compromise:\n",
    "   * Small number (3?) of expectational 'types'\n",
    "      * _a la_ Manski (2017)\n",
    "   * Probably correlated with observable characteristics\n",
    "-->\n",
    "   "
   ]
  },
  {
   "cell_type": "markdown",
   "metadata": {
    "slideshow": {
     "slide_type": "slide"
    }
   },
   "source": [
    "## Deep Improvements in Modeling Practice\n",
    "\n",
    "Need a DYNARE for HA modeling\n",
    "   * ECB can run Rijksbank model calibrated to Italy\n",
    "   * Rijksbank can run Fed model calibrated to Sweden\n",
    "\n",
    "Feasible with modern collaborative development tools:\n",
    "   * Modular\n",
    "   * Open-source\n",
    "   * Robust reproducibility"
   ]
  },
  {
   "cell_type": "markdown",
   "metadata": {
    "slideshow": {
     "slide_type": "slide"
    }
   },
   "source": [
    "## Getting There?\n",
    "\n",
    "* Institutional support of infrastructure development\n",
    "    * Like DYNARE has had\n",
    "    * As is done in other scientific/technical fields\n",
    "        * [Astronomy, Artificial Intelligence, Bayesian Statistics, Biology, ...](https://www.scipy.org/topical-software.html)\n",
    "* Changes in professional equilibria\n",
    "    * \"Publication\"\n",
    "       * Referees need to be able to run your code\n",
    "       * Readers need to be able to reproduce your results\n",
    "* Beginning: [Econ-ARK](http://econ-ark.org) project"
   ]
  },
  {
   "cell_type": "markdown",
   "metadata": {
    "slideshow": {
     "slide_type": "slide"
    }
   },
   "source": [
    "# Survey Data: Abolish Consumer Expenditure Surveys\n",
    "Replace them with Consumer _Expectations_ Surveys <!-- Same acronym, so not too hard -->\n",
    "* Get expenditures from admin data (Mint.com, registries)\n",
    "* Use precious survey time asking:\n",
    "   * expectations\n",
    "   * explanations: 'Why did you buy that second house?'\n",
    "   * _whatever else models say is important_\n",
    "* Oversample potential _marginal_ decisionmakers\n",
    "   * e.g. intensive focus on new homebuyers\n",
    "   * 'Are you a flipper?' (and a hairdresser?)"
   ]
  },
  {
   "cell_type": "markdown",
   "metadata": {
    "slideshow": {
     "slide_type": "slide"
    }
   },
   "source": [
    "# Conclusion\n",
    "* Might take more than 12 years\n",
    "* We'll get there!\n"
   ]
  },
  {
   "cell_type": "markdown",
   "metadata": {
    "slideshow": {
     "slide_type": "slide"
    }
   },
   "source": [
    "# References\n",
    "\n",
    "\n",
    "<div class=\"cite2c-biblio\"></div>"
   ]
  }
 ],
 "metadata": {
  "celltoolbar": "Slideshow",
  "cite2c": {
   "citations": {
    "6273435/2LKSCVY3": {
     "DOI": "10.1016/j.jue.2009.11.001",
     "URL": "http://www.sciencedirect.com/science/article/pii/S0094119009000977",
     "abstract": "In a recent paper, Leamer (2007) identified housing as an important precursor of the national business cycle. Previous work, on the other hand, has shown that regional cycles may not be synchronous with the aggregate cycle. In this paper, we analyze the relationship between housing and the business cycle at the MSA-level for a set of 51 US cities. We find that declines in house prices are often not followed by declines in that city’s employment. While the growth rates in housing variables appeared to slow ahead of city-level peaks, we find no consistent statistical relationship suggesting a city’s permits or prices influences its business cycle. In fact, we find that national permits are a better leading indicator for a city’s employment than a city’s own permits. This suggest the possibility that housing is merely a proxy for other consumption or wealth indicators.",
     "accessed": {
      "day": 6,
      "month": 9,
      "year": 2018
     },
     "author": [
      {
       "family": "Ghent",
       "given": "Andra C."
      },
      {
       "family": "Owyang",
       "given": "Michael T."
      }
     ],
     "container-title": "Journal of Urban Economics",
     "container-title-short": "Journal of Urban Economics",
     "id": "6273435/2LKSCVY3",
     "issue": "3",
     "issued": {
      "day": 1,
      "month": 5,
      "year": 2010
     },
     "journalAbbreviation": "Journal of Urban Economics",
     "page": "336-351",
     "page-first": "336",
     "shortTitle": "Is housing the business cycle?",
     "title": "Is housing the business cycle? Evidence from US cities",
     "title-short": "Is housing the business cycle?",
     "type": "article-journal",
     "volume": "67"
    },
    "6273435/3SMCKLDX": {
     "DOI": "10.1093/rfs/hhw018",
     "URL": "https://academic.oup.com/rfs/article/29/7/1635/2607168",
     "abstract": "Abstract.  This paper highlights the importance of middle-class and high-FICO borrowers for the mortgage crisis. Contrary to popular belief, which focuses on su",
     "accessed": {
      "day": 5,
      "month": 9,
      "year": 2018
     },
     "author": [
      {
       "family": "Adelino",
       "given": "Manuel"
      },
      {
       "family": "Schoar",
       "given": "Antoinette"
      },
      {
       "family": "Severino",
       "given": "Felipe"
      }
     ],
     "container-title": "The Review of Financial Studies",
     "container-title-short": "Rev Financ Stud",
     "id": "6273435/3SMCKLDX",
     "issue": "7",
     "issued": {
      "day": 1,
      "month": 7,
      "year": 2016
     },
     "journalAbbreviation": "Rev Financ Stud",
     "language": "en",
     "page": "1635-1670",
     "page-first": "1635",
     "shortTitle": "Loan Originations and Defaults in the Mortgage Crisis",
     "title": "Loan Originations and Defaults in the Mortgage Crisis: The Role of the Middle Class",
     "title-short": "Loan Originations and Defaults in the Mortgage Crisis",
     "type": "article-journal",
     "volume": "29"
    },
    "6273435/5DTVAPZ9": {
     "DOI": "10.1111/jofi.12586",
     "URL": "https://onlinelibrary.wiley.com/doi/abs/10.1111/jofi.12586",
     "abstract": "We present a model of credit cycles arising from diagnostic expectations—a belief formation mechanism based on Kahneman and Tversky's representativeness heuristic. Diagnostic expectations overweight future outcomes that become more likely in light of incoming data. The expectations formation rule is forward looking and depends on the underlying stochastic process, and thus is immune to the Lucas critique. Diagnostic expectations reconcile extrapolation and neglect of risk in a unified framework. In our model, credit spreads are excessively volatile, overreact to news, and are subject to predictable reversals. These dynamics can account for several features of credit cycles and macroeconomic volatility.",
     "accessed": {
      "day": 5,
      "month": 9,
      "year": 2018
     },
     "author": [
      {
       "family": "Bordalo",
       "given": "Pedro"
      },
      {
       "family": "Gennaioli",
       "given": "Nicola"
      },
      {
       "family": "Shleifer",
       "given": "Andrei"
      }
     ],
     "container-title": "The Journal of Finance",
     "id": "6273435/5DTVAPZ9",
     "issue": "1",
     "issued": {
      "day": 1,
      "month": 2,
      "year": 2018
     },
     "language": "en",
     "page": "199-227",
     "page-first": "199",
     "title": "Diagnostic Expectations and Credit Cycles",
     "type": "article-journal",
     "volume": "73"
    },
    "6273435/5EW3ZYSE": {
     "URL": "https://www.nytimes.com/2005/08/08/opinion/that-hissing-sound.html",
     "abstract": "Paul Krugman Op-Ed column on signs that United States housing bubble has started to deflate (M)",
     "accessed": {
      "day": 5,
      "month": 9,
      "year": 2018
     },
     "author": [
      {
       "family": "Krugman",
       "given": "Paul"
      }
     ],
     "container-title": "The New York Times",
     "id": "6273435/5EW3ZYSE",
     "issued": {
      "day": 8,
      "month": 8,
      "year": 2005
     },
     "language": "en-US",
     "section": "Opinion",
     "title": "That Hissing Sound",
     "type": "article-newspaper"
    },
    "6273435/5LQEJQJH": {
     "DOI": "10.1093/qje/qjq004",
     "URL": "https://academic.oup.com/qje/article/126/1/373/1901343",
     "abstract": "Abstract.  We investigate whether individual experiences of macroeconomic shocks affect financial risk taking, as often suggested for the generation that experi",
     "accessed": {
      "day": 5,
      "month": 9,
      "year": 2018
     },
     "author": [
      {
       "family": "Malmendier",
       "given": "Ulrike"
      },
      {
       "family": "Nagel",
       "given": "Stefan"
      }
     ],
     "container-title": "The Quarterly Journal of Economics",
     "container-title-short": "Q J Econ",
     "id": "6273435/5LQEJQJH",
     "issue": "1",
     "issued": {
      "day": 1,
      "month": 2,
      "year": 2011
     },
     "journalAbbreviation": "Q J Econ",
     "language": "en",
     "page": "373-416",
     "page-first": "373",
     "shortTitle": "Depression Babies",
     "title": "Depression Babies: Do Macroeconomic Experiences Affect Risk Taking?*",
     "title-short": "Depression Babies",
     "type": "article-journal",
     "volume": "126"
    },
    "6273435/6ASZQUFK": {
     "author": [
      {
       "family": "Kahneman",
       "given": "Daniel"
      }
     ],
     "event-place": "New York",
     "id": "6273435/6ASZQUFK",
     "issued": {
      "year": 2011
     },
     "publisher": "Farrar, Straus and Giroux",
     "publisher-place": "New York",
     "title": "Thinking, Fast and Slow",
     "type": "book"
    },
    "6273435/6HQGCZHA": {
     "DOI": "10.1093/qje/qjx017",
     "URL": "https://academic.oup.com/qje/article/132/4/1755/3854928",
     "abstract": "Abstract.  An increase in the household debt to GDP ratio predicts lower GDP growth and higher unemployment in the medium run for an unbalanced panel of 30 coun",
     "accessed": {
      "day": 5,
      "month": 9,
      "year": 2018
     },
     "author": [
      {
       "family": "Mian",
       "given": "Atif"
      },
      {
       "family": "Sufi",
       "given": "Amir"
      },
      {
       "family": "Verner",
       "given": "Emil"
      }
     ],
     "container-title": "The Quarterly Journal of Economics",
     "container-title-short": "Q J Econ",
     "id": "6273435/6HQGCZHA",
     "issue": "4",
     "issued": {
      "day": 1,
      "month": 11,
      "year": 2017
     },
     "journalAbbreviation": "Q J Econ",
     "language": "en",
     "page": "1755-1817",
     "page-first": "1755",
     "title": "Household Debt and Business Cycles Worldwide",
     "type": "article-journal",
     "volume": "132"
    },
    "6273435/98I3UQNW": {
     "author": [
      {
       "family": "Minsky",
       "given": "Hyman P."
      }
     ],
     "id": "6273435/98I3UQNW",
     "issued": {
      "year": 1986
     },
     "title": "Stabilizing an Unstable Economy",
     "type": "book"
    },
    "6273435/A2G7SCE7": {
     "URL": "https://ideas.repec.org/a/fip/fedkpr/y2007p149-233.html",
     "abstract": "Of the components of GDP, residential investment offers by far the best early warning sign of an oncoming recession. Since World War II we have had eight recessions preceded by substantial problems in housing and consumer durables. Housing did not give an early warning of the Department of Defense Downturn after the Korean Armistice in 1953 or the Internet Comeuppance in 2001, nor should it have. By virtue of its prominence in our recessions, it makes sense for housing to play a prominent role in the conduct of monetary policy. A modified Taylor Rule would depend on a long-term measure of inflation having little to do with the phase in the cycle, and, in place of Taylor's output gap, housing starts and the change in housing starts, which together form the best forward-looking indicator of the cycle of which I am aware. This would create pre-emptive anti-inflation policy in the middle of the expansions when housing is not so sensitive to interest rates, making it less likely that anti-inflation policies would be needed near the ends of expansions when housing is very interest rate sensitive, thus making our recessions less frequent and/or less severe.<br><small>(This abstract was borrowed from another version of this item.)</small>",
     "accessed": {
      "day": 5,
      "month": 9,
      "year": 2018
     },
     "author": [
      {
       "family": "Leamer",
       "given": "Edward E."
      }
     ],
     "container-title": "Proceedings - Economic Policy Symposium - Jackson Hole",
     "id": "6273435/A2G7SCE7",
     "issued": {
      "year": 2007
     },
     "language": "en",
     "page": "149-233",
     "page-first": "149",
     "title": "Housing is the business cycle",
     "type": "article-journal"
    },
    "6273435/AR5CX6Z6": {
     "author": [
      {
       "family": "Nagel",
       "given": "Stefan"
      },
      {
       "family": "Xu",
       "given": "Zhengyang"
      }
     ],
     "id": "undefined",
     "issued": {
      "year": 2018
     },
     "language": "en",
     "page": "56",
     "page-first": "56",
     "title": "Asset Pricing with Fading Memory",
     "type": "article-journal"
    },
    "6273435/AV7DSQTR": {
     "URL": "https://www.businessinsider.com/how-to-spot-stock-market-bubbles-2017-10",
     "accessed": {
      "day": 5,
      "month": 9,
      "year": 2018
     },
     "author": [
      {
       "family": "Chudley",
       "given": "Jody"
      }
     ],
     "container-title": "Business Insider",
     "id": "6273435/AV7DSQTR",
     "title": "JFK's father used a simple trick to spot market bubbles — and you can too",
     "type": "webpage"
    },
    "6273435/BLFT9BEG": {
     "author": [
      {
       "family": "Mackay",
       "given": "Charles"
      }
     ],
     "id": "6273435/BLFT9BEG",
     "issued": {
      "year": 1841
     },
     "language": "English",
     "publisher": "Richard Bentley",
     "shortTitle": "Extraordinary Popular Delusions",
     "title": "Extraordinary Popular Delusions and the Madness of Crowds",
     "title-short": "Extraordinary Popular Delusions",
     "type": "book"
    },
    "6273435/DCC92Q2Z": {
     "URL": "http://www.economist.com/special-report/2003/05/29/house-of-cards",
     "abstract": "In many countries the stockmarket bubble has been replaced by a property-price bubble. Sooner or later it will burst, says Pam Woodall, our economics editor",
     "accessed": {
      "day": 6,
      "month": 9,
      "year": 2018
     },
     "container-title": "The Economist",
     "id": "6273435/DCC92Q2Z",
     "issued": {
      "day": 29,
      "month": 5,
      "year": 2003
     },
     "title": "House of cards",
     "type": "article-magazine"
    },
    "6273435/EB4C5G4S": {
     "author": [
      {
       "family": "Kindleberger",
       "given": "Charles P."
      }
     ],
     "id": "6273435/EB4C5G4S",
     "issued": {
      "year": 1978
     },
     "language": "en",
     "publisher": "Palgrave Macmillan",
     "title": "Manias, Panics, and Crashes: A History of Financial Crises",
     "type": "book"
    },
    "6273435/HAEFCS8B": {
     "DOI": "10.1257/aer.91.2.1",
     "URL": "https://www.aeaweb.org/articles?id=10.1257/aer.91.2.1",
     "accessed": {
      "day": 5,
      "month": 9,
      "year": 2018
     },
     "author": [
      {
       "family": "Hall",
       "given": "Robert E."
      }
     ],
     "container-title": "American Economic Review",
     "id": "6273435/HAEFCS8B",
     "issue": "2",
     "issued": {
      "month": 5,
      "year": 2001
     },
     "language": "en",
     "page": "1-11",
     "page-first": "1",
     "title": "Struggling to Understand the Stock Market",
     "type": "article-journal",
     "volume": "91"
    },
    "6273435/HRF5MEAR": {
     "DOI": "10.1086/680584",
     "URL": "https://www.journals.uchicago.edu/doi/10.1086/680584",
     "accessed": {
      "day": 5,
      "month": 9,
      "year": 2018
     },
     "author": [
      {
       "family": "Hall",
       "given": "Robert E."
      }
     ],
     "container-title": "NBER Macroeconomics Annual",
     "container-title-short": "NBER Macroeconomics Annual",
     "id": "6273435/HRF5MEAR",
     "issue": "1",
     "issued": {
      "day": 1,
      "month": 1,
      "year": 2015
     },
     "journalAbbreviation": "NBER Macroeconomics Annual",
     "page": "71-128",
     "page-first": "71",
     "title": "Quantifying the Lasting Harm to the US Economy from the Financial Crisis",
     "type": "article-journal",
     "volume": "29"
    },
    "6273435/HZE378I7": {
     "URL": "https://www.brookings.edu/wp-content/uploads/2003/06/2003b_bpea_caseshiller.pdf",
     "abstract": "This paper looks for evidence of a bubble in U.S. housing prices. It analyzes quarterly state-level data over 1985-2002, focusing on the relationship between home prices and selected fundamental variables. Income per capita alone largely explains price changes in all but eight states; in the latter, large price movements are observed unrelated to the fundamentals. Results from a new survey of recent homebuyers in the Los Angeles, San Francisco, Boston, and Milwaukee metropolitan areas are reported. This survey replicates an almost identical 1988 survey and finds, as before, that buyers in most of these markets perceive little risk in their housing investment, have unrealistic expectations about future price increases, and hold economically implausible beliefs about home price behavior—findings consistent with a bubble. Prices in such markets could stall or decline, but only if such declines are simultaneous or spread to other markets are significant effects on the national economy likely.",
     "author": [
      {
       "family": "Case",
       "given": "Karl E."
      },
      {
       "family": "Shiller",
       "given": "Robert J."
      }
     ],
     "collection-title": "Brookings Papers on Economic Activity",
     "id": "6273435/HZE378I7",
     "issued": {
      "year": 2003
     },
     "publisher": "Brookings Institute",
     "title": "Is There a Bubble in the Housing Market?",
     "type": "report"
    },
    "6273435/JMNWJTKW": {
     "DOI": "10.1016/j.iref.2015.02.002",
     "URL": "http://www.sciencedirect.com/science/article/pii/S1059056015000246",
     "abstract": "There has been, in recent years, a renewed interest in and a growing recognition of the role played by uncertainty shocks in driving fluctuations in the economy and in asset markets. We create new text-based indicators of both general economic and policy specific uncertainty from New York Times and use them first, to chart changes in the level of uncertainty in the US for the period 1985–2007, second, to determine the role of policy in these swings, and, third to assess their impact on the economy, equity markets, and business cycles. Overall, our results indicate that uncertainty shocks – both general and policy related – depress the level of economic activity, significantly increase stock market volatility, and decrease market returns.",
     "accessed": {
      "day": 5,
      "month": 9,
      "year": 2018
     },
     "author": [
      {
       "family": "Alexopoulos",
       "given": "Michelle"
      },
      {
       "family": "Cohen",
       "given": "Jon"
      }
     ],
     "container-title": "International Review of Economics & Finance",
     "container-title-short": "International Review of Economics & Finance",
     "id": "6273435/JMNWJTKW",
     "issued": {
      "day": 1,
      "month": 11,
      "year": 2015
     },
     "journalAbbreviation": "International Review of Economics & Finance",
     "page": "8-28",
     "page-first": "8",
     "shortTitle": "The power of print",
     "title": "The power of print: Uncertainty shocks, markets, and the economy",
     "title-short": "The power of print",
     "type": "article-journal",
     "volume": "40"
    },
    "6273435/JYAC2RG2": {
     "URL": "https://ideas.repec.org/a/fip/fedker/y2007iqivp115-145nv.92no.4.html",
     "abstract": "Residential foreclosures in the United States have been rising very rapidly since 2006. In the second quarter of 2007, the share of outstanding mortgages in some stage of foreclosure stood at 1.4 percent, near historic highs and up from less than 1 percent a year earlier. The number of mortgages entering the foreclosure process reached an all-time high in mid-2007, suggesting that the foreclosure surge is likely to get worse before it gets better. ; The foreclosure surge was created by a perfect storm of events. First, in recent years the share of subprime mortgage originations increased substantially. Second, foreclosure rates for adjustable-rate mortgages (ARMs) have increased considerably, especially for subprime ARMs. This increase is largely due to rising short-term interest rates and to payment resets for many nontraditional mortgages. Finally, high loan-to-value originations in recent years, coupled with stagnant or falling home prices, have left many people with insufficient equity to sell or refinance their homes. ; Edmiston and Zalneraitis provide a detailed dissection of the current foreclosure surge. They conclude with a discussion of why the foreclosure situation is likely to get worse over the next one to two years and why it is likely to improve afterward.",
     "accessed": {
      "day": 5,
      "month": 9,
      "year": 2018
     },
     "author": [
      {
       "family": "Edmiston",
       "given": "Kelly D."
      },
      {
       "family": "Zalneraitis",
       "given": "Roger"
      }
     ],
     "container-title": "Economic Review",
     "id": "6273435/JYAC2RG2",
     "issue": "Q IV",
     "issued": {
      "year": 2007
     },
     "language": "en",
     "page": "115-145",
     "page-first": "115",
     "shortTitle": "Rising foreclosures in the United States",
     "title": "Rising foreclosures in the United States: a perfect storm",
     "title-short": "Rising foreclosures in the United States",
     "type": "article-journal"
    },
    "6273435/LGD94T7L": {
     "URL": "https://www.federalreserve.gov/boarddocs/speeches/2004/20040521/default.htm",
     "author": [
      {
       "family": "Gramlich",
       "given": "Edward M."
      }
     ],
     "id": "6273435/LGD94T7L",
     "issued": {
      "year": 2004
     },
     "note": "Remarks by Governor Edward M. Gramlich at the Financial Services Roundtable Annual Housing Policy Meeting, Chicago, Illinois.",
     "title": "Subprime Mortgage Lending: Benefits, Costs, and Challenges",
     "type": "webpage"
    },
    "6273435/MRW6WNVP": {
     "author": [
      {
       "family": "Blinder",
       "given": "Alan S."
      }
     ],
     "id": "6273435/MRW6WNVP",
     "issued": {
      "year": 2013
     },
     "publisher": "Penguin Press",
     "title": "After the Music Stopped: The Financial Crisis, the Response, and the Work Ahead",
     "type": "book"
    },
    "6273435/N2QBSRRP": {
     "URL": "https://faculty.missouri.edu/~hedlunda/research/housing_boombust_main.pdf",
     "author": [
      {
       "family": "Garriga",
       "given": "Carlos"
      },
      {
       "family": "Hedlund",
       "given": "Aaron"
      }
     ],
     "id": "6273435/N2QBSRRP",
     "issued": {
      "year": 2018
     },
     "title": "Housing Finance, Boom-Bust Episodes, and\nMacroeconomic Fragility",
     "type": "report"
    },
    "6273435/Q7UH3SHN": {
     "DOI": "10.1257/089533005775196769",
     "URL": "https://www.aeaweb.org/articles?id=10.1257/089533005775196769",
     "abstract": "How does one tell when rapid growth in house prices is caused by fundamental factors of supply and demand and when it is an unsustainable bubble? In this paper, we explain how to assess the state of house prices—both whether there is a bubble and what underlying factors support housing demand—in a way that is grounded in economic theory. In doing so, we correct four common fallacies about the costliness of the housing market. For a number of reasons, conventional metrics for assessing pricing in the housing market such as price-to-rent ratios or price-to-income ratios generally fail to reflect accurately the state of housing costs. To the eyes of analysts employing such measures, housing markets can appear \"exuberant\" even when houses are in fact reasonably priced. We construct a measure for evaluating the cost of home owning that is standard for economists—the imputed annual rental cost of owning a home, a variant of the user cost of housing—and apply it to 25 years of history across a wide variety of housing markets. This calculation enables us to estimate the time pattern of housing costs within a market. As of the end of 2004, our analysis reveals little evidence of a housing bubble.",
     "accessed": {
      "day": 5,
      "month": 9,
      "year": 2018
     },
     "author": [
      {
       "family": "Himmelberg",
       "given": "Charles"
      },
      {
       "family": "Mayer",
       "given": "Christopher"
      },
      {
       "family": "Sinai",
       "given": "Todd"
      }
     ],
     "container-title": "Journal of Economic Perspectives",
     "id": "6273435/Q7UH3SHN",
     "issue": "4",
     "issued": {
      "month": 12,
      "year": 2005
     },
     "language": "en",
     "page": "67-92",
     "page-first": "67",
     "shortTitle": "Assessing High House Prices",
     "title": "Assessing High House Prices: Bubbles, Fundamentals and Misperceptions",
     "title-short": "Assessing High House Prices",
     "type": "article-journal",
     "volume": "19"
    },
    "6273435/TJ86B67S": {
     "author": [
      {
       "family": "Mian",
       "given": "Atif"
      },
      {
       "family": "Sufi",
       "given": "Amir"
      }
     ],
     "container-title": "Journal of Economic Perspectives",
     "id": "6273435/TJ86B67S",
     "issue": "3",
     "issued": {
      "year": 2018
     },
     "page": "1-30",
     "page-first": "1",
     "title": "Finance and Business Cycles: The Credit-Driven Household Demand Channel",
     "type": "article-journal",
     "volume": "32"
    },
    "6273435/UWMQ3ND7": {
     "URL": "http://www.nber.org/papers/w23281",
     "abstract": "This paper extends the benchmark New-Keynesian model with a representative agent and rational expectations by introducing two key frictions: (1) agent heterogeneity with incomplete markets, uninsurable idiosyncratic risk, and occasionally-binding borrowing constraints; and (2) bounded rationality in the form of level-k thinking. Compared to the benchmark model, we show that the interaction of these two frictions leads to a powerful mitigation of the effects of monetary policy, which is much more pronounced at long horizons, and offers a potential rationalization of the “forward guidance puzzle”. Each of these frictions, in isolation, would lead to no or much smaller departures from the benchmark model. We conclude that the interaction of bounded rationality and market frictions improves the ability of the model to account for the effects of monetary policy.",
     "accessed": {
      "day": 5,
      "month": 9,
      "year": 2018
     },
     "author": [
      {
       "family": "Farhi",
       "given": "Emmanuel"
      },
      {
       "family": "Werning",
       "given": "Iván"
      }
     ],
     "genre": "Working Paper",
     "id": "6273435/UWMQ3ND7",
     "issued": {
      "month": 3,
      "year": 2017
     },
     "note": "DOI: 10.3386/w23281",
     "number": "23281",
     "publisher": "National Bureau of Economic Research",
     "title": "Monetary Policy, Bounded Rationality, and Incomplete Markets",
     "type": "report"
    },
    "6273435/V8M7KIK5": {
     "URL": "https://www.brookings.edu/wp-content/uploads/2016/03/ByrneEtAl_ProductivityMeasurement_ConferenceDraft.pdf",
     "author": [
      {
       "family": "Byrne",
       "given": "David M."
      },
      {
       "family": "Fernald",
       "given": "John G."
      },
      {
       "family": "Reinsdorf",
       "given": "Marshall B."
      }
     ],
     "genre": "Brookings Papers on Economic Activity",
     "id": "6273435/V8M7KIK5",
     "issued": {
      "year": 2016
     },
     "publisher": "Brookings Institute",
     "title": "Does the United States have a productivity slowdown or a measurement problem?",
     "type": "report"
    },
    "6273435/VDK9EZWA": {
     "URL": "https://ideas.repec.org/p/fip/fedgsq/77.html",
     "abstract": "a speech at the Sandridge Lecture, Virginia Association of Economics, Richmond, Virginia, March 10, 2005 and the Homer Jones Lecture, St. Louis, Missouri, on April 14, 2005",
     "accessed": {
      "day": 5,
      "month": 9,
      "year": 2018
     },
     "author": [
      {
       "family": "Bernanke",
       "given": "Ben S."
      }
     ],
     "collection-title": "Speech",
     "id": "6273435/VDK9EZWA",
     "issued": {
      "year": 2005
     },
     "language": "en",
     "number": "77",
     "publisher": "Board of Governors of the Federal Reserve System (U.S.)",
     "title": "The global saving glut and the U.S. current account deficit",
     "type": "report"
    },
    "6273435/WTWTWFWP": {
     "DOI": "10.1257/aer.20110683",
     "URL": "https://www.aeaweb.org/articles?id=10.1257/aer.20110683",
     "abstract": "The paper studies how high household leverage and crises can be caused by changes in the income distribution. Empirically, the periods 1920-1929 and 1983-2008 both exhibited a large increase in the income share of high-income households, a large increase in debt leverage of low- and middle-income households, and an eventual financial and real crisis. The paper presents a theoretical model where higher leverage and crises are the endogenous result of a growing income share of high-income households. The model matches the profiles of the income distribution, the debt-to-income ratio and crisis risk for the three decades preceding the Great Recession. (JEL D14, D31, D33, E32, E44, G01, N22)",
     "accessed": {
      "day": 5,
      "month": 9,
      "year": 2018
     },
     "author": [
      {
       "family": "Kumhof",
       "given": "Michael"
      },
      {
       "family": "Rancière",
       "given": "Romain"
      },
      {
       "family": "Winant",
       "given": "Pablo"
      }
     ],
     "container-title": "American Economic Review",
     "id": "6273435/WTWTWFWP",
     "issue": "3",
     "issued": {
      "month": 3,
      "year": 2015
     },
     "language": "en",
     "page": "1217-1245",
     "page-first": "1217",
     "title": "Inequality, Leverage, and Crises",
     "type": "article-journal",
     "volume": "105"
    },
    "6273435/ZNBZENA9": {
     "URL": "http://www.nber.org/papers/w23863",
     "abstract": "We revisit La Porta’s (1996) finding that returns on stocks with the most optimistic analyst long term earnings growth forecasts are substantially lower than those for stocks with the most pessimistic forecasts. We document that this finding still holds, and present several further facts about the joint dynamics of fundamentals, expectations, and returns for these portfolios. We explain these facts using a new model of belief formation based on a portable formalization of the representativeness heuristic. In this model, analysts forecast future fundamentals from the history of earnings growth, but they over-react to news by exaggerating the probability of states that have become objectively more likely. Intuitively, fast earnings growth predicts future Googles but not as many as analysts believe. We test predictions that distinguish this mechanism from both Bayesian learning and adaptive expectations, and find supportive evidence. A calibration of the model offers a satisfactory account of the key patterns in fundamentals, expectations, and returns.",
     "accessed": {
      "day": 5,
      "month": 9,
      "year": 2018
     },
     "author": [
      {
       "family": "Bordalo",
       "given": "Pedro"
      },
      {
       "family": "Gennaioli",
       "given": "Nicola"
      },
      {
       "family": "Porta",
       "given": "Rafael La"
      },
      {
       "family": "Shleifer",
       "given": "Andrei"
      }
     ],
     "genre": "Working Paper",
     "id": "6273435/ZNBZENA9",
     "issued": {
      "month": 9,
      "year": 2017
     },
     "note": "DOI: 10.3386/w23863",
     "number": "23863",
     "publisher": "National Bureau of Economic Research",
     "title": "Diagnostic Expectations and Stock Returns",
     "type": "report"
    },
    "undefined": {
     "author": [
      {
       "family": "Nagel",
       "given": "Stefan"
      },
      {
       "family": "Xu",
       "given": "Zhengyang"
      }
     ],
     "id": "undefined",
     "issued": {
      "year": 2018
     },
     "language": "en",
     "page": "56",
     "page-first": "56",
     "title": "Asset Pricing with Fading Memory",
     "type": "article-journal"
    }
   }
  },
  "kernelspec": {
   "display_name": "Python 3",
   "language": "python",
   "name": "python3"
  },
  "language_info": {
   "codemirror_mode": {
    "name": "ipython",
    "version": 3
   },
   "file_extension": ".py",
   "mimetype": "text/x-python",
   "name": "python",
   "nbconvert_exporter": "python",
   "pygments_lexer": "ipython3",
   "version": "3.6.4"
  }
 },
 "nbformat": 4,
 "nbformat_minor": 2
}
